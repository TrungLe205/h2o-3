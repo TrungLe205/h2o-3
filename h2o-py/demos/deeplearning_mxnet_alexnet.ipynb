{
 "cells": [
  {
   "cell_type": "markdown",
   "metadata": {},
   "source": [
    "# DeepWater \n",
    "\n",
    "## Convolutional Neural Networks\n",
    "\n",
    "### AlexNet Demo - MXNet\n",
    "\n",
    "In this demo you will learn how to build a simple AlexNet Model usix MXNET.\n",
    "\n",
    "![alexnet](./images/alexnet.png)\n",
    "\n",
    "[Krizhevsky, Alex, Ilya Sutskever, and Geoffrey E. Hinton. \"Imagenet classification with deep convolutional neural networks.\" Advances in neural information processing systems. 2012.]()"
   ]
  },
  {
   "cell_type": "code",
   "execution_count": 7,
   "metadata": {
    "collapsed": false
   },
   "outputs": [
    {
     "name": "stdout",
     "output_type": "stream",
     "text": [
      "Checking whether there is an H2O instance running at http://localhost:54321. connected.\n"
     ]
    },
    {
     "data": {
      "text/html": [
       "<div style=\"overflow:auto\"><table style=\"width:50%\"><tr><td>H2O cluster uptime:</td>\n",
       "<td>1 day 22 hours 13 mins</td></tr>\n",
       "<tr><td>H2O cluster version:</td>\n",
       "<td>3.11.0.99999</td></tr>\n",
       "<tr><td>H2O cluster version age:</td>\n",
       "<td>2 days </td></tr>\n",
       "<tr><td>H2O cluster name:</td>\n",
       "<td>fmilo</td></tr>\n",
       "<tr><td>H2O cluster total nodes:</td>\n",
       "<td>1</td></tr>\n",
       "<tr><td>H2O cluster free memory:</td>\n",
       "<td>8.96 Gb</td></tr>\n",
       "<tr><td>H2O cluster total cores:</td>\n",
       "<td>40</td></tr>\n",
       "<tr><td>H2O cluster allowed cores:</td>\n",
       "<td>40</td></tr>\n",
       "<tr><td>H2O cluster status:</td>\n",
       "<td>locked, healthy</td></tr>\n",
       "<tr><td>H2O connection url:</td>\n",
       "<td>http://localhost:54321</td></tr>\n",
       "<tr><td>H2O connection proxy:</td>\n",
       "<td>None</td></tr>\n",
       "<tr><td>Python version:</td>\n",
       "<td>2.7.12 final</td></tr></table></div>"
      ],
      "text/plain": [
       "--------------------------  ----------------------\n",
       "H2O cluster uptime:         1 day 22 hours 13 mins\n",
       "H2O cluster version:        3.11.0.99999\n",
       "H2O cluster version age:    2 days\n",
       "H2O cluster name:           fmilo\n",
       "H2O cluster total nodes:    1\n",
       "H2O cluster free memory:    8.96 Gb\n",
       "H2O cluster total cores:    40\n",
       "H2O cluster allowed cores:  40\n",
       "H2O cluster status:         locked, healthy\n",
       "H2O connection url:         http://localhost:54321\n",
       "H2O connection proxy:\n",
       "Python version:             2.7.12 final\n",
       "--------------------------  ----------------------"
      ]
     },
     "metadata": {},
     "output_type": "display_data"
    }
   ],
   "source": [
    "from __future__ import print_function\n",
    "import sys, os\n",
    "import h2o\n",
    "from h2o.estimators.deepwater import H2ODeepWaterEstimator\n",
    "h2o.init()"
   ]
  },
  {
   "cell_type": "code",
   "execution_count": 8,
   "metadata": {
    "collapsed": true
   },
   "outputs": [],
   "source": [
    "def alexnet(num_classes):\n",
    "    import mxnet as mx\n",
    "    input_data = mx.symbol.Variable(name=\"data\")\n",
    "    # stage 1\n",
    "    conv1 = mx.symbol.Convolution(\n",
    "        data=input_data, kernel=(11, 11), stride=(4, 4), num_filter=96)\n",
    "    relu1 = mx.symbol.Activation(data=conv1, act_type=\"relu\")\n",
    "    pool1 = mx.symbol.Pooling(\n",
    "        data=relu1, pool_type=\"max\", kernel=(3, 3), stride=(2,2))\n",
    "    lrn1 = mx.symbol.LRN(data=pool1, alpha=0.0001, beta=0.75, knorm=1, nsize=5)\n",
    "    # stage 2\n",
    "    conv2 = mx.symbol.Convolution(\n",
    "        data=lrn1, kernel=(5, 5), pad=(2, 2), num_filter=256)\n",
    "    relu2 = mx.symbol.Activation(data=conv2, act_type=\"relu\")\n",
    "    pool2 = mx.symbol.Pooling(data=relu2, kernel=(3, 3), stride=(2, 2), pool_type=\"max\")\n",
    "    lrn2 = mx.symbol.LRN(data=pool2, alpha=0.0001, beta=0.75, knorm=1, nsize=5)\n",
    "    # stage 3\n",
    "    conv3 = mx.symbol.Convolution(\n",
    "        data=lrn2, kernel=(3, 3), pad=(1, 1), num_filter=384)\n",
    "    relu3 = mx.symbol.Activation(data=conv3, act_type=\"relu\")\n",
    "    conv4 = mx.symbol.Convolution(\n",
    "        data=relu3, kernel=(3, 3), pad=(1, 1), num_filter=384)\n",
    "    relu4 = mx.symbol.Activation(data=conv4, act_type=\"relu\")\n",
    "    conv5 = mx.symbol.Convolution(\n",
    "        data=relu4, kernel=(3, 3), pad=(1, 1), num_filter=256)\n",
    "    relu5 = mx.symbol.Activation(data=conv5, act_type=\"relu\")\n",
    "    pool3 = mx.symbol.Pooling(data=relu5, kernel=(3, 3), stride=(2, 2), pool_type=\"max\")\n",
    "    # stage 4\n",
    "    flatten = mx.symbol.Flatten(data=pool3)\n",
    "    fc1 = mx.symbol.FullyConnected(data=flatten, num_hidden=4096)\n",
    "    relu6 = mx.symbol.Activation(data=fc1, act_type=\"relu\")\n",
    "    dropout1 = mx.symbol.Dropout(data=relu6, p=0.5)\n",
    "    # stage 5\n",
    "    fc2 = mx.symbol.FullyConnected(data=dropout1, num_hidden=4096)\n",
    "    relu7 = mx.symbol.Activation(data=fc2, act_type=\"relu\")\n",
    "    dropout2 = mx.symbol.Dropout(data=relu7, p=0.5)\n",
    "    # stage 6\n",
    "    fc3 = mx.symbol.FullyConnected(data=dropout2, num_hidden=num_classes)\n",
    "    softmax = mx.symbol.SoftmaxOutput(data=fc3, name='softmax')\n",
    "    return softmax"
   ]
  },
  {
   "cell_type": "markdown",
   "metadata": {},
   "source": [
    "Test checks if Deep Water works fine with a multiclass image dataset"
   ]
  },
  {
   "cell_type": "code",
   "execution_count": 9,
   "metadata": {
    "collapsed": false
   },
   "outputs": [
    {
     "name": "stdout",
     "output_type": "stream",
     "text": [
      "Parse progress: |█████████████████████████████████████████████████████████████████████████████| 100%\n",
      "C1                                                               C2\n",
      "---------------------------------------------------------------  ----\n",
      "bigdata/laptop/deepwater/imagenet/cat/102194502_49f003abd9.jpg   cat\n",
      "bigdata/laptop/deepwater/imagenet/cat/11146807_00a5f35255.jpg    cat\n",
      "bigdata/laptop/deepwater/imagenet/cat/1140846215_70e326f868.jpg  cat\n",
      "bigdata/laptop/deepwater/imagenet/cat/114170569_6cbdf4bbdb.jpg   cat\n",
      "bigdata/laptop/deepwater/imagenet/cat/1217664848_de4c7fc296.jpg  cat\n",
      "\n",
      "[5 rows x 2 columns]\n"
     ]
    }
   ],
   "source": [
    "frame = h2o.import_file(\"../../bigdata/laptop/deepwater/imagenet/cat_dog_mouse.csv\")\n",
    "print(frame.head(5))\n",
    "nclasses = frame[1].nlevels()[0]"
   ]
  },
  {
   "cell_type": "markdown",
   "metadata": {},
   "source": [
    "Creating the Alexnet model architecture from scratch using the MXNet Python API"
   ]
  },
  {
   "cell_type": "code",
   "execution_count": 10,
   "metadata": {
    "collapsed": true
   },
   "outputs": [],
   "source": [
    "mxnet_model = alexnet(nclasses)\n",
    "mxnet_model.save(\"/tmp/symbol_alexnet-py.json\")"
   ]
  },
  {
   "cell_type": "markdown",
   "metadata": {},
   "source": [
    "Importing the Alexnet model architecture for training in H2O"
   ]
  },
  {
   "cell_type": "code",
   "execution_count": 11,
   "metadata": {
    "collapsed": true
   },
   "outputs": [],
   "source": [
    "model = H2ODeepWaterEstimator(\n",
    "    epochs=100, \n",
    "    learning_rate=1e-2, \n",
    "    mini_batch_size=128, \n",
    "    learning_rate_annealing=1e-5,\n",
    "    network='user', \n",
    "    network_definition_file=\"/tmp/symbol_alexnet-py.json\", \n",
    "    image_shape=[224,224], \n",
    "    channels=3,\n",
    "    score_interval=0, \n",
    "    train_samples_per_iteration=1000,\n",
    "    gpu=True\n",
    ")"
   ]
  },
  {
   "cell_type": "code",
   "execution_count": 12,
   "metadata": {
    "collapsed": false
   },
   "outputs": [
    {
     "name": "stdout",
     "output_type": "stream",
     "text": [
      "deepwater Model Build progress: |█████████████████████████████████████████████████████████████| 100%\n"
     ]
    }
   ],
   "source": [
    "model.train(x=[0],y=1, training_frame=frame)"
   ]
  },
  {
   "cell_type": "code",
   "execution_count": 13,
   "metadata": {
    "collapsed": false,
    "scrolled": false
   },
   "outputs": [
    {
     "data": {
      "text/plain": [
       "0.6666666666666666"
      ]
     },
     "execution_count": 13,
     "metadata": {},
     "output_type": "execute_result"
    }
   ],
   "source": [
    "error = model.model_performance(train=True).mean_per_class_error()\n",
    "error"
   ]
  },
  {
   "cell_type": "code",
   "execution_count": null,
   "metadata": {
    "collapsed": true
   },
   "outputs": [],
   "source": []
  }
 ],
 "metadata": {
  "anaconda-cloud": {},
  "kernelspec": {
   "display_name": "Python [default]",
   "language": "python",
   "name": "python2"
  },
  "language_info": {
   "codemirror_mode": {
    "name": "ipython",
    "version": 2
   },
   "file_extension": ".py",
   "mimetype": "text/x-python",
   "name": "python",
   "nbconvert_exporter": "python",
   "pygments_lexer": "ipython2",
   "version": "2.7.12"
  }
 },
 "nbformat": 4,
 "nbformat_minor": 0
}
