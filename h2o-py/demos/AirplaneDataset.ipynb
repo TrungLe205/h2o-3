{
 "cells": [
  {
   "cell_type": "markdown",
   "metadata": {},
   "source": [
    "# Airplanes Dataset"
   ]
  },
  {
   "cell_type": "code",
   "execution_count": 1,
   "metadata": {
    "collapsed": false
   },
   "outputs": [
    {
     "name": "stdout",
     "output_type": "stream",
     "text": [
      "Checking whether there is an H2O instance running at http://localhost:54321. connected.\n"
     ]
    },
    {
     "data": {
      "text/html": [
       "<div style=\"overflow:auto\"><table style=\"width:50%\"><tr><td>H2O cluster uptime:</td>\n",
       "<td>31 mins 17 secs</td></tr>\n",
       "<tr><td>H2O cluster version:</td>\n",
       "<td>3.11.0.99999</td></tr>\n",
       "<tr><td>H2O cluster version age:</td>\n",
       "<td>15 hours and 56 minutes </td></tr>\n",
       "<tr><td>H2O cluster name:</td>\n",
       "<td>fmilo</td></tr>\n",
       "<tr><td>H2O cluster total nodes:</td>\n",
       "<td>1</td></tr>\n",
       "<tr><td>H2O cluster free memory:</td>\n",
       "<td>12.36 Gb</td></tr>\n",
       "<tr><td>H2O cluster total cores:</td>\n",
       "<td>40</td></tr>\n",
       "<tr><td>H2O cluster allowed cores:</td>\n",
       "<td>40</td></tr>\n",
       "<tr><td>H2O cluster status:</td>\n",
       "<td>locked, healthy</td></tr>\n",
       "<tr><td>H2O connection url:</td>\n",
       "<td>http://localhost:54321</td></tr>\n",
       "<tr><td>H2O connection proxy:</td>\n",
       "<td>None</td></tr>\n",
       "<tr><td>Python version:</td>\n",
       "<td>2.7.12 final</td></tr></table></div>"
      ],
      "text/plain": [
       "--------------------------  -----------------------\n",
       "H2O cluster uptime:         31 mins 17 secs\n",
       "H2O cluster version:        3.11.0.99999\n",
       "H2O cluster version age:    15 hours and 56 minutes\n",
       "H2O cluster name:           fmilo\n",
       "H2O cluster total nodes:    1\n",
       "H2O cluster free memory:    12.36 Gb\n",
       "H2O cluster total cores:    40\n",
       "H2O cluster allowed cores:  40\n",
       "H2O cluster status:         locked, healthy\n",
       "H2O connection url:         http://localhost:54321\n",
       "H2O connection proxy:\n",
       "Python version:             2.7.12 final\n",
       "--------------------------  -----------------------"
      ]
     },
     "metadata": {},
     "output_type": "display_data"
    }
   ],
   "source": [
    "# %load ../../h2o-py/tests/testdir_algos/deepwater/pyunit_cv_cars_deepwater.py\n",
    "from __future__ import print_function\n",
    "from builtins import range\n",
    "import sys, os\n",
    "sys.path.insert(1, os.path.join(\"..\",\"..\",\"..\"))\n",
    "import h2o\n",
    "from tests import pyunit_utils\n",
    "import random\n",
    "from h2o.estimators.deepwater import H2ODeepWaterEstimator\n",
    "h2o.init()"
   ]
  },
  {
   "cell_type": "code",
   "execution_count": 2,
   "metadata": {
    "collapsed": true
   },
   "outputs": [],
   "source": [
    "def cv_cars_dw():\n",
    "\n",
    "  # read in the dataset and construct training set (and validation set)\n",
    "  cars =  h2o.import_file(path=pyunit_utils.locate(\"smalldata/junit/cars_20mpg.csv\"))\n",
    "\n",
    "  # choose the type model-building exercise (multinomial classification or regression). 0:regression, 1:binomial,\n",
    "  # 2:multinomial\n",
    "  problem = random.sample(list(range(2)),1)[0] + 1  # only do classification\n",
    "\n",
    "  # pick the predictors and the correct response column\n",
    "  predictors = [\"displacement\",\"power\",\"weight\",\"acceleration\",\"year\"]\n",
    "  if problem == 1   :\n",
    "    response_col = \"economy_20mpg\"\n",
    "    cars[response_col] = cars[response_col].asfactor()\n",
    "  elif problem == 2 :\n",
    "    response_col = \"cylinders\"\n",
    "    cars[response_col] = cars[response_col].asfactor()\n",
    "  else              :\n",
    "    response_col = \"economy\"\n",
    "\n",
    "  print(\"Response column: {0}\".format(response_col))\n",
    "\n",
    "  ## cross-validation\n",
    "  # 1. basic\n",
    "\n",
    "  dl = H2ODeepWaterEstimator(nfolds=random.randint(3,10),fold_assignment=\"Modulo\",hidden=[20,20],epochs=10)\n",
    "  dl.train(x=predictors, y=response_col, training_frame=cars)\n",
    "\n",
    "  # 2. check that cv metrics are different over repeated \"Random\" runs\n",
    "  nfolds = random.randint(3,10)\n",
    "  dl1 = H2ODeepWaterEstimator(nfolds=nfolds,fold_assignment=\"Random\",hidden=[20,20],epochs=10)\n",
    "  dl1.train(x=predictors,y=response_col,training_frame=cars)\n",
    "  dl2 = H2ODeepWaterEstimator(nfolds=nfolds,fold_assignment=\"Random\",hidden=[20,20],epochs=10)\n",
    "  try:\n",
    "    pyunit_utils.check_models(dl1, dl2, True)\n",
    "    assert False, \"Expected models to be different over repeated Random runs\"\n",
    "  except AssertionError:\n",
    "    assert True\n",
    "\n",
    "  # 3. folds_column\n",
    "  num_folds = random.randint(2,5)\n",
    "  fold_assignments = h2o.H2OFrame([[random.randint(0,num_folds-1)] for _ in range(cars.nrow)])\n",
    "  fold_assignments.set_names([\"fold_assignments\"])\n",
    "  cars = cars.cbind(fold_assignments)\n",
    "\n",
    "  dl = H2ODeepWaterEstimator(keep_cross_validation_predictions=True,hidden=[20,20],epochs=10)\n",
    "  dl.train(x=predictors,y=response_col,training_frame=cars,fold_column=\"fold_assignments\")\n",
    "\n",
    "  num_cv_models = len(dl._model_json['output']['cross_validation_models'])\n",
    "  assert num_cv_models==num_folds, \"Expected {0} cross-validation models, but got \" \\\n",
    "                                   \"{1}\".format(num_folds, num_cv_models)\n",
    "  cv_model1 = h2o.get_model(dl._model_json['output']['cross_validation_models'][0]['name'])\n",
    "  cv_model2 = h2o.get_model(dl._model_json['output']['cross_validation_models'][1]['name'])\n",
    "\n",
    "\n",
    "  # 4. keep_cross_validation_predictions\n",
    "  cv_predictions = dl1._model_json['output']['cross_validation_predictions']\n",
    "\n",
    "\n",
    "\n",
    "  ## boundary cases\n",
    "  # 1. nfolds = number of observations (leave-one-out cross-validation)\n",
    "  dl = H2ODeepWaterEstimator(nfolds=cars.nrow, fold_assignment=\"Modulo\",hidden=[20,20],epochs=10)\n",
    "  dl.train(x=predictors,y=response_col,training_frame=cars)\n",
    "\n",
    "  # 2. nfolds = 0\n",
    "  dl = H2ODeepWaterEstimator(nfolds=0,hidden=[20,20],epochs=10)\n",
    "  dl.train(x=predictors,y=response_col,training_frame=cars)\n",
    "\n",
    "  # 3. cross-validation and regular validation attempted\n",
    "  dl = H2ODeepWaterEstimator(nfolds=random.randint(3,10),hidden=[20,20],epochs=10)\n",
    "  dl.train(x=predictors, y=response_col, training_frame=cars, validation_frame=cars)\n",
    "\n",
    "\n",
    "  ## error cases\n",
    "  # 1. nfolds == 1 or < 0\n",
    "  try:\n",
    "    dl = H2ODeepWaterEstimator(nfolds=random.sample([-1,1], 1)[0],hidden=[20,20],epochs=10)\n",
    "    dl.train(x=predictors, y=response_col, training_frame=cars)\n",
    "    assert False, \"Expected model-build to fail when nfolds is 1 or < 0\"\n",
    "  except EnvironmentError:\n",
    "    assert True\n",
    "\n",
    "  # 2. more folds than observations\n",
    "  try:\n",
    "    dl = H2ODeepWaterEstimator(nfolds=cars.nrow+1,fold_assignment=\"Modulo\",hidden=[20,20],epochs=10)\n",
    "    dl.train(x=predictors, y=response_col, training_frame=cars)\n",
    "    assert False, \"Expected model-build to fail when nfolds > nobs\"\n",
    "  except EnvironmentError:\n",
    "    assert True\n",
    "\n",
    "  # 3. fold_column and nfolds both specified\n",
    "  try:\n",
    "    dl = H2ODeepWaterEstimator(nfolds=3)\n",
    "    dl.train(x=predictors, y=response_col, fold_column=\"fold_assignments\", training_frame=cars, hidden=[20,20],epochs=10)\n",
    "    assert False, \"Expected model-build to fail when fold_column and nfolds both specified\"\n",
    "  except EnvironmentError:\n",
    "    assert True"
   ]
  },
  {
   "cell_type": "code",
   "execution_count": 3,
   "metadata": {
    "collapsed": false
   },
   "outputs": [
    {
     "name": "stdout",
     "output_type": "stream",
     "text": [
      "Parse progress: |█████████████████████████████████████████████████████████████████████████████| 100%\n",
      "Response column: cylinders\n",
      "deepwater Model Build progress: |█████████████████████████████████████████████████████████████| 100%\n",
      "deepwater Model Build progress: |█████████████████████████████████████████████████████████████| 100%\n",
      "Parse progress: |█████████████████████████████████████████████████████████████████████████████| 100%\n",
      "deepwater Model Build progress: |█████████████████████████████████████████████████████████████| 100%\n",
      "deepwater Model Build progress: |█████████████████████████████████████████████████████████████| 100%\n",
      "deepwater Model Build progress: |█████████████████████████████████████████████████████████████| 100%\n",
      "deepwater Model Build progress: |█████████████████████████████████████████████████████████████| 100%\n"
     ]
    }
   ],
   "source": [
    "cv_cars_dw()"
   ]
  },
  {
   "cell_type": "code",
   "execution_count": null,
   "metadata": {
    "collapsed": true
   },
   "outputs": [],
   "source": []
  }
 ],
 "metadata": {
  "anaconda-cloud": {},
  "kernelspec": {
   "display_name": "Python [conda env:deepwater]",
   "language": "python",
   "name": "conda-env-deepwater-py"
  },
  "language_info": {
   "codemirror_mode": {
    "name": "ipython",
    "version": 2
   },
   "file_extension": ".py",
   "mimetype": "text/x-python",
   "name": "python",
   "nbconvert_exporter": "python",
   "pygments_lexer": "ipython2",
   "version": "2.7.12"
  }
 },
 "nbformat": 4,
 "nbformat_minor": 1
}
